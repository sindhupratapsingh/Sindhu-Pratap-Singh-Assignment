{
 "cells": [
  {
   "cell_type": "code",
   "execution_count": 1,
   "metadata": {},
   "outputs": [
    {
     "name": "stdout",
     "output_type": "stream",
     "text": [
      "it\n"
     ]
    }
   ],
   "source": [
    "# 1   Create a string and print it.\n",
    "\n",
    "name = \"it\"\n",
    "print(name)\n"
   ]
  },
  {
   "cell_type": "code",
   "execution_count": 3,
   "metadata": {},
   "outputs": [
    {
     "data": {
      "text/plain": [
       "63"
      ]
     },
     "execution_count": 3,
     "metadata": {},
     "output_type": "execute_result"
    }
   ],
   "source": [
    "#2  Take a string input and print it's length.\n",
    "story = input(\"enter a story\")\n",
    "len(story)"
   ]
  },
  {
   "cell_type": "code",
   "execution_count": 4,
   "metadata": {},
   "outputs": [
    {
     "name": "stdout",
     "output_type": "stream",
     "text": [
      "h\n"
     ]
    }
   ],
   "source": [
    "#3   Print the last word of the string Python is great using slices.\n",
    "\n",
    "name = \"Sindhu Pratap Singh\"\n",
    "slice1 = name[-1:]\n",
    "print(slice1)"
   ]
  },
  {
   "cell_type": "code",
   "execution_count": 6,
   "metadata": {},
   "outputs": [
    {
     "name": "stdout",
     "output_type": "stream",
     "text": [
      "p\n",
      "y\n",
      "t\n",
      "h\n",
      "o\n",
      "n\n",
      " \n",
      "i\n",
      "s\n",
      " \n",
      "e\n",
      "v\n",
      "e\n",
      "r\n",
      "y\n",
      "w\n",
      "h\n",
      "e\n",
      "r\n",
      "e\n"
     ]
    }
   ],
   "source": [
    "#4   Print the each word in different line of string python is everywhere.\n",
    "\n",
    "name =\"python is everywhere\"\n",
    "for i in name:\n",
    "    print(i)"
   ]
  },
  {
   "cell_type": "code",
   "execution_count": 9,
   "metadata": {},
   "outputs": [
    {
     "name": "stdout",
     "output_type": "stream",
     "text": [
      "!dlroW olleH\n"
     ]
    }
   ],
   "source": [
    "#5    Print the string Hello World! in reverse.\n",
    "name = \"Hello World!\" [::-1]\n",
    "print(name)\n"
   ]
  },
  {
   "cell_type": "code",
   "execution_count": 14,
   "metadata": {},
   "outputs": [
    {
     "data": {
      "text/plain": [
       "'HOW ARE YOU?'"
      ]
     },
     "execution_count": 14,
     "metadata": {},
     "output_type": "execute_result"
    }
   ],
   "source": [
    "#6    Convert the string How are you? in uppercase.\n",
    "text = \"How are you?\"\n",
    "text.upper()\n"
   ]
  },
  {
   "cell_type": "code",
   "execution_count": 15,
   "metadata": {},
   "outputs": [
    {
     "data": {
      "text/plain": [
       "'how is it going? '"
      ]
     },
     "execution_count": 15,
     "metadata": {},
     "output_type": "execute_result"
    }
   ],
   "source": [
    "#7     Convert the string How Is It Going? in lowercase.\n",
    "msg = \"How Is It Going? \"\n",
    "msg.lower()"
   ]
  },
  {
   "cell_type": "code",
   "execution_count": 28,
   "metadata": {},
   "outputs": [
    {
     "name": "stdout",
     "output_type": "stream",
     "text": [
      "Python  is  easy  to  learn\n"
     ]
    }
   ],
   "source": [
    "#8    Join the following list by spaces( ) and print the result.    8\n",
    "words = ['Python', 'is', 'easy', 'to', 'learn']\n",
    "s = \"  \".join(words)\n",
    "print(s)"
   ]
  },
  {
   "cell_type": "code",
   "execution_count": 29,
   "metadata": {},
   "outputs": [
    {
     "name": "stdout",
     "output_type": "stream",
     "text": [
      "I am learning Python.\n",
      "I love Software Testing Material.\n",
      "Best site to learn Python.\n"
     ]
    }
   ],
   "source": [
    "#9    Print a multiline string using a single print   9\n",
    "x = \"\"\"I am learning Python.\n",
    "I love Software Testing Material.\n",
    "Best site to learn Python.\"\"\"\n",
    "print(x)\n",
    "\n",
    "\n"
   ]
  },
  {
   "cell_type": "code",
   "execution_count": 43,
   "metadata": {},
   "outputs": [
    {
     "name": "stdout",
     "output_type": "stream",
     "text": [
      "sindu \n",
      "pratap \n",
      "singh\n"
     ]
    }
   ],
   "source": [
    "#10    Print this string to move to newline '\\n' is used. (results should look exactly like the provided string  10\n",
    "\n",
    "name = \"sindu \\npratap \\nsingh\"\n",
    "print(name)"
   ]
  },
  {
   "cell_type": "code",
   "execution_count": 1,
   "metadata": {},
   "outputs": [
    {
     "name": "stdout",
     "output_type": "stream",
     "text": [
      "The variable is 15 \n"
     ]
    }
   ],
   "source": [
    "#11   Print a variable with some text using a single print function, output should look like following.\n",
    "#the variable is 15\n",
    "\n",
    "\n",
    "var = \"The variable is 15 \"\n",
    "print(var)\n"
   ]
  },
  {
   "cell_type": "code",
   "execution_count": 2,
   "metadata": {},
   "outputs": [
    {
     "name": "stdout",
     "output_type": "stream",
     "text": [
      "Python is great.\n"
     ]
    }
   ],
   "source": [
    "#12   concatenate the following strings and print the result\n",
    "s1 = 'python '\n",
    "s2 = 'is '\n",
    "s3 = 'great.'\n",
    "\n",
    "\n",
    "s1 ='Python'\n",
    "s2 = 'is'\n",
    "s3 = 'great.'\n",
    "s4 = s1+ \" \"+ s2 +\" \"+ s3\n",
    "\n",
    "print(s4)"
   ]
  },
  {
   "cell_type": "code",
   "execution_count": 3,
   "metadata": {},
   "outputs": [
    {
     "name": "stdout",
     "output_type": "stream",
     "text": [
      "####################\n"
     ]
    }
   ],
   "source": [
    "#13   Print # 20 times without using a loop\n",
    "\n",
    "print('#' * 20)"
   ]
  },
  {
   "cell_type": "code",
   "execution_count": 5,
   "metadata": {},
   "outputs": [
    {
     "name": "stdout",
     "output_type": "stream",
     "text": [
      "1 .\n",
      "2 .\n",
      "3 .\n",
      "4 .\n",
      "5 .\n",
      "6 .\n",
      "7 .\n",
      "8 .\n",
      "9 .\n"
     ]
    }
   ],
   "source": [
    "#14     Print numbers from 1 to 9, each on a seperate line, followed by a dot, output should look like the following-\n",
    "1.\n",
    "2.\n",
    "3.\n",
    "\n",
    "for i in range(1, 10):\n",
    "    print(i,'.')\n"
   ]
  },
  {
   "cell_type": "code",
   "execution_count": 10,
   "metadata": {},
   "outputs": [
    {
     "name": "stdout",
     "output_type": "stream",
     "text": [
      "m\n",
      "y\n",
      " \n",
      "n\n",
      "a\n",
      "m\n",
      "e\n",
      " \n",
      "i\n",
      "s\n",
      " \n",
      "s\n",
      "i\n",
      "n\n",
      "d\n",
      "h\n",
      "u\n"
     ]
    }
   ],
   "source": [
    "#15    Ask user to input a sentence and print each word on a different line.\n",
    "\n",
    "words=input(\"what is your name\")\n",
    "for i in words:\n",
    "    print(i)\n",
    "    "
   ]
  },
  {
   "cell_type": "code",
   "execution_count": 14,
   "metadata": {},
   "outputs": [
    {
     "name": "stdout",
     "output_type": "stream",
     "text": [
      " yes ends with ? \n"
     ]
    }
   ],
   "source": [
    "#16    Ask user to input a string and check if the string ends with '?'\n",
    "\n",
    "string = input(\"Who are you?\")\n",
    "if string.endswith('?'):\n",
    "    print(' yes ends with ? ')\n",
    "else:\n",
    "    print(\"No\") "
   ]
  },
  {
   "cell_type": "code",
   "execution_count": 16,
   "metadata": {},
   "outputs": [
    {
     "data": {
      "text/plain": [
       "2"
      ]
     },
     "execution_count": 16,
     "metadata": {},
     "output_type": "execute_result"
    }
   ],
   "source": [
    "#17    Ask user to input a string and print how many times e appeared in the string\n",
    "\n",
    "story = input(\"write a message\")\n",
    "story.count('e')\n",
    "\n",
    "\n"
   ]
  },
  {
   "cell_type": "code",
   "execution_count": 18,
   "metadata": {},
   "outputs": [
    {
     "name": "stdout",
     "output_type": "stream",
     "text": [
      " Yes This value is numeric\n"
     ]
    }
   ],
   "source": [
    "#18     Check if the user input is a number.\n",
    "\n",
    "\n",
    "num = input(\"enter a number:\")\n",
    "if num.isnumeric():\n",
    "    print(\" Yes This value is numeric\")\n",
    "else:\n",
    "    print('Not Numeric')"
   ]
  },
  {
   "cell_type": "code",
   "execution_count": 21,
   "metadata": {},
   "outputs": [
    {
     "data": {
      "text/plain": [
       "'this is not a good string'"
      ]
     },
     "execution_count": 21,
     "metadata": {},
     "output_type": "execute_result"
    }
   ],
   "source": [
    "#19      Remove the extra spaces in beginning and in the end of the following string-\n",
    "#text = '   this is not a good string \n",
    "text = '   this is not a good string                     '\n",
    "text.strip()\n",
    "\n"
   ]
  },
  {
   "cell_type": "code",
   "execution_count": 24,
   "metadata": {},
   "outputs": [
    {
     "data": {
      "text/plain": [
       "True"
      ]
     },
     "execution_count": 24,
     "metadata": {},
     "output_type": "execute_result"
    }
   ],
   "source": [
    "#20      Ask user to input string, print found if any of the character is upper case.\n",
    "\n",
    "msg = input(\"your name?\")\n",
    "msg.isupper()"
   ]
  },
  {
   "cell_type": "code",
   "execution_count": 41,
   "metadata": {},
   "outputs": [
    {
     "name": "stdout",
     "output_type": "stream",
     "text": [
      " The Names is: Joe, David, Mark, Tom, Chris, Robert\n",
      "The list of names is :['Joe,', 'David,', 'Mark,', 'Tom,', 'Chris,', 'Robert']\n"
     ]
    }
   ],
   "source": [
    "#  21     Extract names from the following string and store them in a list.\n",
    "#names = 'Joe, David, Mark, Tom, Chris, Robert'\n",
    "\n",
    "names = 'Joe, David, Mark, Tom, Chris, Robert'\n",
    "print(\" The Names is: \"+names)\n",
    "res = names.split()\n",
    "print(\"The list of names is :\"+ str(res))\n",
    "\n"
   ]
  },
  {
   "cell_type": "code",
   "execution_count": 3,
   "metadata": {},
   "outputs": [
    {
     "name": "stdout",
     "output_type": "stream",
     "text": [
      "thisaye\n",
      "isaye\n",
      "someaye\n",
      "textaye\n"
     ]
    }
   ],
   "source": [
    "#22      In the following string, add aye in the end of every word and print the results.\n",
    "# text = 'this is some text'\n",
    "\n",
    "\n",
    "text = 'this is some text'\n",
    "for i in text.split():\n",
    "    print(f'{i}aye')\n",
    "\n",
    "\n",
    "\n"
   ]
  },
  {
   "cell_type": "code",
   "execution_count": 38,
   "metadata": {},
   "outputs": [
    {
     "name": "stdout",
     "output_type": "stream",
     "text": [
      "Word found.\n"
     ]
    }
   ],
   "source": [
    "#23     ask user to enter a string and check if the string contains fyi\n",
    "\n",
    "msg = input(\"what is your country name?\")\n",
    "word = 'fyi'\n",
    "\n",
    "if word in msg:\n",
    "    print('Word found.')\n",
    "else:\n",
    "    print('word not found.')\n",
    "\n",
    "\n",
    " "
   ]
  },
  {
   "cell_type": "code",
   "execution_count": 31,
   "metadata": {},
   "outputs": [
    {
     "name": "stdout",
     "output_type": "stream",
     "text": [
      "p34yt68hon404\n"
     ]
    }
   ],
   "source": [
    "#24   Remove all the special characters and numbers from the following string\n",
    "#     text = '%p34@y!*-*!t68h#&on404'\n",
    "\n",
    "\n",
    "string = '%p34@y!*-*!t68h#&on404'\n",
    "new_string =''.join(char for char in string if char.isalnum())\n",
    "print(new_string)"
   ]
  },
  {
   "cell_type": "code",
   "execution_count": 32,
   "metadata": {},
   "outputs": [
    {
     "name": "stdout",
     "output_type": "stream",
     "text": [
      "4.636363636363637\n"
     ]
    }
   ],
   "source": [
    "#25    calculate the average word length of the following paragraph.\n",
    "#this is a paragraph which is written just for the purpose of providing content to let the average word length be calculated\n",
    "\n",
    "\n",
    "msg = (\"this is a paragraph which is written just for the purpose of providing content to let the average word length be calculated\")\n",
    "\n",
    "words = msg.split()\n",
    "total  = sum(map(len,words))/len(words)\n",
    "print(total)\n"
   ]
  }
 ],
 "metadata": {
  "kernelspec": {
   "display_name": "Python 3.9.13 64-bit (windows store)",
   "language": "python",
   "name": "python3"
  },
  "language_info": {
   "codemirror_mode": {
    "name": "ipython",
    "version": 3
   },
   "file_extension": ".py",
   "mimetype": "text/x-python",
   "name": "python",
   "nbconvert_exporter": "python",
   "pygments_lexer": "ipython3",
   "version": "3.9.13"
  },
  "orig_nbformat": 4,
  "vscode": {
   "interpreter": {
    "hash": "43a24ecce625020f2d6631fb4cfb730bba30d877e9fe9ec2e0d85cb5a52a2b64"
   }
  }
 },
 "nbformat": 4,
 "nbformat_minor": 2
}
